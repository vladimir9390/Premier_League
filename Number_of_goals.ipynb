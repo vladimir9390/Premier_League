{
 "cells": [
  {
   "cell_type": "markdown",
   "metadata": {},
   "source": [
    "# ML model which predicts number of goals in EPL"
   ]
  },
  {
   "cell_type": "markdown",
   "metadata": {},
   "source": [
    "### Import necessary libraries"
   ]
  },
  {
   "cell_type": "code",
   "execution_count": 67,
   "metadata": {},
   "outputs": [],
   "source": [
    "import pandas as pd\n",
    "import numpy as np\n"
   ]
  },
  {
   "cell_type": "markdown",
   "metadata": {},
   "source": [
    "### Load the datasets"
   ]
  },
  {
   "cell_type": "code",
   "execution_count": 68,
   "metadata": {},
   "outputs": [
    {
     "data": {
      "text/html": [
       "<div>\n",
       "<style scoped>\n",
       "    .dataframe tbody tr th:only-of-type {\n",
       "        vertical-align: middle;\n",
       "    }\n",
       "\n",
       "    .dataframe tbody tr th {\n",
       "        vertical-align: top;\n",
       "    }\n",
       "\n",
       "    .dataframe thead th {\n",
       "        text-align: right;\n",
       "    }\n",
       "</style>\n",
       "<table border=\"1\" class=\"dataframe\">\n",
       "  <thead>\n",
       "    <tr style=\"text-align: right;\">\n",
       "      <th></th>\n",
       "      <th>HomeTeam</th>\n",
       "      <th>AwayTeam</th>\n",
       "      <th>Referee</th>\n",
       "      <th>BWH</th>\n",
       "      <th>BWD</th>\n",
       "      <th>BWA</th>\n",
       "      <th>Avg&lt;2.5</th>\n",
       "      <th>Avg&gt;2.5</th>\n",
       "      <th>Day_of_year</th>\n",
       "      <th>Day_of_week</th>\n",
       "      <th>Month</th>\n",
       "      <th>Year</th>\n",
       "      <th>Season</th>\n",
       "    </tr>\n",
       "  </thead>\n",
       "  <tbody>\n",
       "    <tr>\n",
       "      <th>0</th>\n",
       "      <td>Aston Villa</td>\n",
       "      <td>West Ham</td>\n",
       "      <td>M Dean</td>\n",
       "      <td>1.85</td>\n",
       "      <td>3.40</td>\n",
       "      <td>4.10</td>\n",
       "      <td>1.75</td>\n",
       "      <td>2.01</td>\n",
       "      <td>226</td>\n",
       "      <td>Saturday</td>\n",
       "      <td>8</td>\n",
       "      <td>2010</td>\n",
       "      <td>2010/2011</td>\n",
       "    </tr>\n",
       "    <tr>\n",
       "      <th>1</th>\n",
       "      <td>Blackburn</td>\n",
       "      <td>Everton</td>\n",
       "      <td>P Dowd</td>\n",
       "      <td>2.75</td>\n",
       "      <td>3.25</td>\n",
       "      <td>2.45</td>\n",
       "      <td>1.70</td>\n",
       "      <td>2.08</td>\n",
       "      <td>226</td>\n",
       "      <td>Saturday</td>\n",
       "      <td>8</td>\n",
       "      <td>2010</td>\n",
       "      <td>2010/2011</td>\n",
       "    </tr>\n",
       "    <tr>\n",
       "      <th>2</th>\n",
       "      <td>Bolton</td>\n",
       "      <td>Fulham</td>\n",
       "      <td>S Attwell</td>\n",
       "      <td>2.15</td>\n",
       "      <td>3.25</td>\n",
       "      <td>3.25</td>\n",
       "      <td>1.69</td>\n",
       "      <td>2.09</td>\n",
       "      <td>226</td>\n",
       "      <td>Saturday</td>\n",
       "      <td>8</td>\n",
       "      <td>2010</td>\n",
       "      <td>2010/2011</td>\n",
       "    </tr>\n",
       "    <tr>\n",
       "      <th>3</th>\n",
       "      <td>Chelsea</td>\n",
       "      <td>West Brom</td>\n",
       "      <td>M Clattenburg</td>\n",
       "      <td>1.15</td>\n",
       "      <td>6.75</td>\n",
       "      <td>16.00</td>\n",
       "      <td>2.49</td>\n",
       "      <td>1.49</td>\n",
       "      <td>226</td>\n",
       "      <td>Saturday</td>\n",
       "      <td>8</td>\n",
       "      <td>2010</td>\n",
       "      <td>2010/2011</td>\n",
       "    </tr>\n",
       "    <tr>\n",
       "      <th>4</th>\n",
       "      <td>Sunderland</td>\n",
       "      <td>Birmingham</td>\n",
       "      <td>A Taylor</td>\n",
       "      <td>2.15</td>\n",
       "      <td>3.20</td>\n",
       "      <td>3.30</td>\n",
       "      <td>1.65</td>\n",
       "      <td>2.16</td>\n",
       "      <td>226</td>\n",
       "      <td>Saturday</td>\n",
       "      <td>8</td>\n",
       "      <td>2010</td>\n",
       "      <td>2010/2011</td>\n",
       "    </tr>\n",
       "  </tbody>\n",
       "</table>\n",
       "</div>"
      ],
      "text/plain": [
       "      HomeTeam    AwayTeam        Referee   BWH   BWD    BWA  Avg<2.5  \\\n",
       "0  Aston Villa    West Ham         M Dean  1.85  3.40   4.10     1.75   \n",
       "1    Blackburn     Everton         P Dowd  2.75  3.25   2.45     1.70   \n",
       "2       Bolton      Fulham      S Attwell  2.15  3.25   3.25     1.69   \n",
       "3      Chelsea   West Brom  M Clattenburg  1.15  6.75  16.00     2.49   \n",
       "4   Sunderland  Birmingham       A Taylor  2.15  3.20   3.30     1.65   \n",
       "\n",
       "   Avg>2.5  Day_of_year Day_of_week  Month  Year     Season  \n",
       "0     2.01          226    Saturday      8  2010  2010/2011  \n",
       "1     2.08          226    Saturday      8  2010  2010/2011  \n",
       "2     2.09          226    Saturday      8  2010  2010/2011  \n",
       "3     1.49          226    Saturday      8  2010  2010/2011  \n",
       "4     2.16          226    Saturday      8  2010  2010/2011  "
      ]
     },
     "execution_count": 68,
     "metadata": {},
     "output_type": "execute_result"
    }
   ],
   "source": [
    "X=pd.read_csv('PL_features.csv')  # Load features dataset prepared from data_preparation file\n",
    "X.head() # Display loaded dataset"
   ]
  },
  {
   "cell_type": "code",
   "execution_count": 69,
   "metadata": {},
   "outputs": [
    {
     "data": {
      "text/html": [
       "<div>\n",
       "<style scoped>\n",
       "    .dataframe tbody tr th:only-of-type {\n",
       "        vertical-align: middle;\n",
       "    }\n",
       "\n",
       "    .dataframe tbody tr th {\n",
       "        vertical-align: top;\n",
       "    }\n",
       "\n",
       "    .dataframe thead th {\n",
       "        text-align: right;\n",
       "    }\n",
       "</style>\n",
       "<table border=\"1\" class=\"dataframe\">\n",
       "  <thead>\n",
       "    <tr style=\"text-align: right;\">\n",
       "      <th></th>\n",
       "      <th>Number_of_goals</th>\n",
       "    </tr>\n",
       "  </thead>\n",
       "  <tbody>\n",
       "    <tr>\n",
       "      <th>0</th>\n",
       "      <td>3+</td>\n",
       "    </tr>\n",
       "    <tr>\n",
       "      <th>1</th>\n",
       "      <td>0-2</td>\n",
       "    </tr>\n",
       "    <tr>\n",
       "      <th>2</th>\n",
       "      <td>0-2</td>\n",
       "    </tr>\n",
       "    <tr>\n",
       "      <th>3</th>\n",
       "      <td>3+</td>\n",
       "    </tr>\n",
       "    <tr>\n",
       "      <th>4</th>\n",
       "      <td>3+</td>\n",
       "    </tr>\n",
       "  </tbody>\n",
       "</table>\n",
       "</div>"
      ],
      "text/plain": [
       "  Number_of_goals\n",
       "0              3+\n",
       "1             0-2\n",
       "2             0-2\n",
       "3              3+\n",
       "4              3+"
      ]
     },
     "execution_count": 69,
     "metadata": {},
     "output_type": "execute_result"
    }
   ],
   "source": [
    "y=pd.read_csv('Goals_labels.csv')   # Load labels dataset prepared from data_preparation file\n",
    "y.head()"
   ]
  },
  {
   "cell_type": "markdown",
   "metadata": {},
   "source": [
    "### Make pipeline"
   ]
  },
  {
   "cell_type": "code",
   "execution_count": 70,
   "metadata": {},
   "outputs": [
    {
     "name": "stdout",
     "output_type": "stream",
     "text": [
      "['HomeTeam', 'AwayTeam', 'Referee', 'BWH', 'BWD', 'BWA', 'Avg<2.5', 'Avg>2.5', 'Day_of_year', 'Day_of_week', 'Month', 'Year', 'Season']\n"
     ]
    }
   ],
   "source": [
    "list_cols=list(X.columns)  # Make a list with column names from features dataset\n",
    "print (list_cols)"
   ]
  },
  {
   "cell_type": "code",
   "execution_count": 114,
   "metadata": {},
   "outputs": [
    {
     "name": "stdout",
     "output_type": "stream",
     "text": [
      "      HomeTeam    AwayTeam        Referee Day_of_week     Season  Month  Year\n",
      "0  Aston Villa    West Ham         M Dean    Saturday  2010/2011      8  2010\n",
      "1    Blackburn     Everton         P Dowd    Saturday  2010/2011      8  2010\n",
      "2       Bolton      Fulham      S Attwell    Saturday  2010/2011      8  2010\n",
      "3      Chelsea   West Brom  M Clattenburg    Saturday  2010/2011      8  2010\n",
      "4   Sunderland  Birmingham       A Taylor    Saturday  2010/2011      8  2010\n",
      "    BWH   BWD    BWA  Avg<2.5  Avg>2.5  Day_of_year\n",
      "0  1.85  3.40   4.10     1.75     2.01          226\n",
      "1  2.75  3.25   2.45     1.70     2.08          226\n",
      "2  2.15  3.25   3.25     1.69     2.09          226\n",
      "3  1.15  6.75  16.00     2.49     1.49          226\n",
      "4  2.15  3.20   3.30     1.65     2.16          226\n"
     ]
    }
   ],
   "source": [
    "X_cat=X[['HomeTeam', 'AwayTeam', 'Referee','Day_of_week','Season','Month', 'Year']]   # Define categorical colums\n",
    "X_num=X[['BWH', 'BWD', 'BWA', 'Avg<2.5', 'Avg>2.5', 'Day_of_year']]  # Define numerical columns\n",
    "print (X_cat.head())\n",
    "print (X_num.head())"
   ]
  },
  {
   "cell_type": "markdown",
   "metadata": {},
   "source": [
    "### One hot encoder"
   ]
  },
  {
   "cell_type": "code",
   "execution_count": 115,
   "metadata": {},
   "outputs": [
    {
     "data": {
      "text/plain": [
       "OneHotEncoder()"
      ]
     },
     "execution_count": 115,
     "metadata": {},
     "output_type": "execute_result"
    }
   ],
   "source": [
    "from sklearn.preprocessing import OneHotEncoder  # Import OneHotEncoder \n",
    "encoder = OneHotEncoder()\n",
    "encoder.fit(X_cat)   # Fit categorical columns to encoder"
   ]
  },
  {
   "cell_type": "code",
   "execution_count": 116,
   "metadata": {},
   "outputs": [
    {
     "data": {
      "text/plain": [
       "[array(['Arsenal', 'Aston Villa', 'Birmingham', 'Blackburn', 'Blackpool',\n",
       "        'Bolton', 'Bournemouth', 'Brighton', 'Burnley', 'Cardiff',\n",
       "        'Chelsea', 'Crystal Palace', 'Everton', 'Fulham', 'Huddersfield',\n",
       "        'Hull', 'Leeds', 'Leicester', 'Liverpool', 'Man City',\n",
       "        'Man United', 'Middlesbrough', 'Newcastle', 'Norwich', 'QPR',\n",
       "        'Reading', 'Sheffield United', 'Southampton', 'Stoke',\n",
       "        'Sunderland', 'Swansea', 'Tottenham', 'Watford', 'West Brom',\n",
       "        'West Ham', 'Wigan', 'Wolves'], dtype=object),\n",
       " array(['Arsenal', 'Aston Villa', 'Birmingham', 'Blackburn', 'Blackpool',\n",
       "        'Bolton', 'Bournemouth', 'Brighton', 'Burnley', 'Cardiff',\n",
       "        'Chelsea', 'Crystal Palace', 'Everton', 'Fulham', 'Huddersfield',\n",
       "        'Hull', 'Leeds', 'Leicester', 'Liverpool', 'Man City',\n",
       "        'Man United', 'Middlesbrough', 'Newcastle', 'Norwich', 'QPR',\n",
       "        'Reading', 'Sheffield United', 'Southampton', 'Stoke',\n",
       "        'Sunderland', 'Swansea', 'Tottenham', 'Watford', 'West Brom',\n",
       "        'West Ham', 'Wigan', 'Wolves'], dtype=object),\n",
       " array(['A Madley', 'A Marriner', 'A Taylor', 'C Foy', 'C Kavanagh',\n",
       "        'C Pawson', 'D Coote', 'D England', 'G Scott', 'H Webb', 'J Moss',\n",
       "        'K Friend', 'K Stroud', 'L Mason', 'L Probert', 'M Atkinson',\n",
       "        'M Clattenburg', 'M Dean', 'M Halsey', 'M Jones', 'M Oliver',\n",
       "        'N Swarbrick', 'O Langford', 'P Bankes', 'P Dowd', 'P Tierney',\n",
       "        'P Walton', 'R East', 'R Jones', 'R Madley', 'S Attwell',\n",
       "        'S Hooper', 'S Scott', 'T Robinson', 'l Mason'], dtype=object),\n",
       " array(['Friday', 'Monday', 'Saturday', 'Sunday', 'Thursday', 'Tuesday',\n",
       "        'Wednesday'], dtype=object),\n",
       " array(['2010/2011', '2011/2012', '2012/2013', '2013/2014', '2014/2015',\n",
       "        '2015/2016', '2016/2017', '2017/2018', '2018/2019', '2019/2020',\n",
       "        '2020/2021'], dtype=object),\n",
       " array([ 1,  2,  3,  4,  5,  6,  7,  8,  9, 10, 11, 12], dtype=int64),\n",
       " array([2010, 2011, 2012, 2013, 2014, 2015, 2016, 2017, 2018, 2019, 2020],\n",
       "       dtype=int64)]"
      ]
     },
     "execution_count": 116,
     "metadata": {},
     "output_type": "execute_result"
    }
   ],
   "source": [
    "encoder.categories_"
   ]
  },
  {
   "cell_type": "code",
   "execution_count": 117,
   "metadata": {},
   "outputs": [],
   "source": [
    "X_cat_1hot = encoder.transform(X_cat).toarray()   # Transform categorical columns to OneHot encoded columns"
   ]
  },
  {
   "cell_type": "code",
   "execution_count": 118,
   "metadata": {},
   "outputs": [
    {
     "data": {
      "text/plain": [
       "array([[0., 1., 0., ..., 0., 0., 0.],\n",
       "       [0., 0., 0., ..., 0., 0., 0.],\n",
       "       [0., 0., 0., ..., 0., 0., 0.],\n",
       "       ...,\n",
       "       [0., 0., 0., ..., 0., 0., 1.],\n",
       "       [0., 0., 0., ..., 0., 0., 1.],\n",
       "       [1., 0., 0., ..., 0., 0., 1.]])"
      ]
     },
     "execution_count": 118,
     "metadata": {},
     "output_type": "execute_result"
    }
   ],
   "source": [
    "X_cat_1hot  # Display new array"
   ]
  },
  {
   "cell_type": "markdown",
   "metadata": {},
   "source": [
    "### Label Binarizer"
   ]
  },
  {
   "cell_type": "code",
   "execution_count": 76,
   "metadata": {},
   "outputs": [
    {
     "data": {
      "text/plain": [
       "array([[1],\n",
       "       [0],\n",
       "       [0],\n",
       "       ...,\n",
       "       [0],\n",
       "       [0],\n",
       "       [1]])"
      ]
     },
     "execution_count": 76,
     "metadata": {},
     "output_type": "execute_result"
    }
   ],
   "source": [
    "# If it's needed, labels can be converted to binar values\n",
    "from sklearn.preprocessing import LabelBinarizer  # Import LabelBinarizer\n",
    "encoder_lb = LabelBinarizer()\n",
    "y_lb = encoder_lb.fit_transform(y)  # Fit labels values to encoder\n",
    "y_lb  # Display new array"
   ]
  },
  {
   "cell_type": "markdown",
   "metadata": {},
   "source": [
    "### SK learn pipeline"
   ]
  },
  {
   "cell_type": "code",
   "execution_count": 77,
   "metadata": {},
   "outputs": [],
   "source": [
    "# For complete preprocessing of data:\n",
    "from sklearn.pipeline import Pipeline  # Import Pipeline\n",
    "from sklearn.preprocessing import StandardScaler  # Import StandarScaler\n",
    "from sklearn.pipeline import FeatureUnion  #Import FeatureUnion"
   ]
  },
  {
   "cell_type": "code",
   "execution_count": 119,
   "metadata": {},
   "outputs": [],
   "source": [
    "num_attribs = list (X_num)  # Create list with columns names of numerical attributes\n",
    "cat_attribs = list (X_cat)  # Create list with columns names of categorical attributes"
   ]
  },
  {
   "cell_type": "code",
   "execution_count": 120,
   "metadata": {},
   "outputs": [],
   "source": [
    "# Define class for selection of columns from dataframes\n",
    "from sklearn.base import BaseEstimator, TransformerMixin\n",
    "class DataFrameSelector(BaseEstimator, TransformerMixin):\n",
    "    def __init__(self, attribute_names):\n",
    "        self.attribute_names = attribute_names\n",
    "    def fit(self, X, y=None):\n",
    "        return self\n",
    "    def transform(self, X):\n",
    "        return X[self.attribute_names].values"
   ]
  },
  {
   "cell_type": "code",
   "execution_count": 121,
   "metadata": {},
   "outputs": [],
   "source": [
    "# Define pipeline for numerical features\n",
    "num_pipeline = Pipeline([\n",
    "('selector', DataFrameSelector(num_attribs)),\n",
    "('std_scaler', StandardScaler()),\n",
    "])"
   ]
  },
  {
   "cell_type": "code",
   "execution_count": 122,
   "metadata": {},
   "outputs": [],
   "source": [
    "# Define pipeline for categorical features\n",
    "cat_pipeline = Pipeline([\n",
    "('selector', DataFrameSelector(cat_attribs)),\n",
    "('one_hot_encoder', OneHotEncoder()),\n",
    "])"
   ]
  },
  {
   "cell_type": "code",
   "execution_count": 123,
   "metadata": {},
   "outputs": [],
   "source": [
    "# Merge both pipelines in one\n",
    "full_pipeline = FeatureUnion(transformer_list=[\n",
    "(\"num_pipeline\", num_pipeline),\n",
    "(\"cat_pipeline\", cat_pipeline),\n",
    "])"
   ]
  },
  {
   "cell_type": "code",
   "execution_count": 124,
   "metadata": {},
   "outputs": [
    {
     "data": {
      "text/plain": [
       "(3878, 156)"
      ]
     },
     "execution_count": 124,
     "metadata": {},
     "output_type": "execute_result"
    }
   ],
   "source": [
    "X_prepared = full_pipeline.fit_transform(X)  # Apply full pipeline on features dataset\n",
    "X_prepared.toarray()   # Switch new dataset to Numpy array type\n",
    "X_prepared.shape  # Display shape of new array"
   ]
  },
  {
   "cell_type": "markdown",
   "metadata": {},
   "source": [
    "### Split training set"
   ]
  },
  {
   "cell_type": "code",
   "execution_count": 125,
   "metadata": {},
   "outputs": [],
   "source": [
    "#Shuffle and split prepared datasets to train and test (20%) datasets. It's possible to use y_lb nstead of y\n",
    "from sklearn.model_selection import train_test_split\n",
    "X_train, X_test, y_train, y_test = train_test_split(X_prepared, y, test_size=0.2, random_state=42)\n"
   ]
  },
  {
   "cell_type": "markdown",
   "metadata": {},
   "source": [
    "## Train the models"
   ]
  },
  {
   "cell_type": "markdown",
   "metadata": {},
   "source": [
    "### Linear Support Vector Machine Model"
   ]
  },
  {
   "cell_type": "code",
   "execution_count": 126,
   "metadata": {},
   "outputs": [
    {
     "data": {
      "text/plain": [
       "SVC(kernel='linear', probability=True)"
      ]
     },
     "execution_count": 126,
     "metadata": {},
     "output_type": "execute_result"
    }
   ],
   "source": [
    "from sklearn import svm\n",
    "clf_svm = svm.SVC(kernel='linear',probability=True)\n",
    "clf_svm.fit(X_train, np.ravel(y_train))"
   ]
  },
  {
   "cell_type": "markdown",
   "metadata": {},
   "source": [
    "### Decision Tree Model"
   ]
  },
  {
   "cell_type": "code",
   "execution_count": 127,
   "metadata": {},
   "outputs": [
    {
     "data": {
      "text/plain": [
       "DecisionTreeClassifier()"
      ]
     },
     "execution_count": 127,
     "metadata": {},
     "output_type": "execute_result"
    }
   ],
   "source": [
    "from sklearn.tree import DecisionTreeClassifier\n",
    "clf_dec = DecisionTreeClassifier()\n",
    "clf_dec.fit(X_train,  np.ravel(y_train))"
   ]
  },
  {
   "cell_type": "markdown",
   "metadata": {},
   "source": [
    "### Random Forest Model"
   ]
  },
  {
   "cell_type": "code",
   "execution_count": 128,
   "metadata": {},
   "outputs": [
    {
     "data": {
      "text/plain": [
       "RandomForestClassifier(random_state=42)"
      ]
     },
     "execution_count": 128,
     "metadata": {},
     "output_type": "execute_result"
    }
   ],
   "source": [
    "from sklearn.ensemble import RandomForestClassifier\n",
    "clf_forest=RandomForestClassifier(random_state=42)\n",
    "clf_forest.fit(X_train,  np.ravel(y_train))"
   ]
  },
  {
   "cell_type": "markdown",
   "metadata": {},
   "source": [
    "### Logistic Regression"
   ]
  },
  {
   "cell_type": "code",
   "execution_count": 129,
   "metadata": {},
   "outputs": [
    {
     "data": {
      "text/plain": [
       "LogisticRegression(max_iter=10000)"
      ]
     },
     "execution_count": 129,
     "metadata": {},
     "output_type": "execute_result"
    }
   ],
   "source": [
    "from sklearn.linear_model import LogisticRegression\n",
    "\n",
    "clf_log = LogisticRegression(max_iter=10000)\n",
    "clf_log.fit(X_train,  np.ravel(y_train))\n"
   ]
  },
  {
   "cell_type": "code",
   "execution_count": null,
   "metadata": {},
   "outputs": [],
   "source": []
  },
  {
   "cell_type": "markdown",
   "metadata": {},
   "source": [
    "### Perceptron"
   ]
  },
  {
   "cell_type": "code",
   "execution_count": 130,
   "metadata": {},
   "outputs": [
    {
     "data": {
      "text/plain": [
       "Perceptron(max_iter=100000, penalty='l2')"
      ]
     },
     "execution_count": 130,
     "metadata": {},
     "output_type": "execute_result"
    }
   ],
   "source": [
    "from sklearn.linear_model import Perceptron\n",
    "\n",
    "clf_per = Perceptron(penalty='l2', max_iter=100000)\n",
    "clf_per.fit(X_train, np.ravel(y_train))"
   ]
  },
  {
   "cell_type": "markdown",
   "metadata": {},
   "source": [
    "### MLP Classifier"
   ]
  },
  {
   "cell_type": "code",
   "execution_count": 131,
   "metadata": {},
   "outputs": [
    {
     "data": {
      "text/plain": [
       "MLPClassifier(early_stopping=True, hidden_layer_sizes=(300,), max_iter=1000,\n",
       "              random_state=1)"
      ]
     },
     "execution_count": 131,
     "metadata": {},
     "output_type": "execute_result"
    }
   ],
   "source": [
    "from sklearn.neural_network import MLPClassifier\n",
    "clf_mlp = MLPClassifier(hidden_layer_sizes=(300, ),early_stopping=True,random_state=1, max_iter=1000)\n",
    "clf_mlp.fit(X_train, np.ravel(y_train))"
   ]
  },
  {
   "cell_type": "markdown",
   "metadata": {},
   "source": [
    "### Models performance (comparision between models)"
   ]
  },
  {
   "cell_type": "code",
   "execution_count": 132,
   "metadata": {},
   "outputs": [
    {
     "name": "stdout",
     "output_type": "stream",
     "text": [
      "0.5541237113402062\n",
      "0.4948453608247423\n",
      "0.5425257731958762\n",
      "0.5154639175257731\n",
      "0.529639175257732\n",
      "0.5528350515463918\n"
     ]
    }
   ],
   "source": [
    "#Mean accuracy\n",
    "print(clf_svm.score(X_test, y_test))\n",
    "print(clf_dec.score(X_test, y_test))\n",
    "print(clf_log.score(X_test, y_test))\n",
    "print(clf_forest.score(X_test, y_test))\n",
    "print(clf_per.score(X_test, y_test))\n",
    "print(clf_mlp.score(X_test, y_test))"
   ]
  },
  {
   "cell_type": "code",
   "execution_count": 133,
   "metadata": {},
   "outputs": [
    {
     "name": "stdout",
     "output_type": "stream",
     "text": [
      "[0.44012945 0.62955032]\n",
      "[0.45251397 0.53110048]\n",
      "[0.47251114 0.59613197]\n",
      "[0.44868035 0.56781609]\n",
      "[0.43234837 0.59845985]\n",
      "[0.4376013  0.62887701]\n"
     ]
    }
   ],
   "source": [
    "#f1 score\n",
    "from sklearn.metrics import f1_score\n",
    "\n",
    "print(f1_score(y_test,clf_svm.predict(X_test), average=None))\n",
    "print(f1_score(y_test,clf_dec.predict(X_test), average=None))\n",
    "print(f1_score(y_test,clf_log.predict(X_test), average=None))\n",
    "print(f1_score(y_test,clf_forest.predict(X_test), average=None))\n",
    "print(f1_score(y_test,clf_per.predict(X_test), average=None))\n",
    "print(f1_score(y_test,clf_mlp.predict(X_test), average=None))"
   ]
  },
  {
   "cell_type": "markdown",
   "metadata": {},
   "source": [
    "#### Based on evaluated results, choosen model is Logistic Regression"
   ]
  },
  {
   "cell_type": "markdown",
   "metadata": {},
   "source": [
    "## Fine tuning"
   ]
  },
  {
   "cell_type": "markdown",
   "metadata": {},
   "source": [
    "### GridSearchCV"
   ]
  },
  {
   "cell_type": "code",
   "execution_count": 29,
   "metadata": {},
   "outputs": [],
   "source": [
    "from sklearn.model_selection import GridSearchCV"
   ]
  },
  {
   "cell_type": "code",
   "execution_count": 149,
   "metadata": {},
   "outputs": [
    {
     "name": "stdout",
     "output_type": "stream",
     "text": [
      "{'max_iter': 1000, 'solver': 'liblinear'}\n",
      "LogisticRegression(max_iter=1000, solver='liblinear')\n",
      "0.5438144329896907\n",
      "[0.47321429 0.59772727]\n"
     ]
    }
   ],
   "source": [
    "parameters = {'solver':('lbfgs','liblinear','newton-cg'),'max_iter':(1000, 10000)}\n",
    "clf = GridSearchCV(clf_log, parameters, cv=5)\n",
    "clf.fit(X_train,  np.ravel(y_train))\n",
    "\n",
    "print(clf.best_params_)\n",
    "print (clf.best_estimator_)\n",
    "print(clf.score(X_test, y_test))\n",
    "print(f1_score(y_test,clf.predict(X_test), average=None))"
   ]
  },
  {
   "cell_type": "markdown",
   "metadata": {},
   "source": [
    "## Prediction"
   ]
  },
  {
   "cell_type": "code",
   "execution_count": 134,
   "metadata": {},
   "outputs": [
    {
     "data": {
      "text/html": [
       "<div>\n",
       "<style scoped>\n",
       "    .dataframe tbody tr th:only-of-type {\n",
       "        vertical-align: middle;\n",
       "    }\n",
       "\n",
       "    .dataframe tbody tr th {\n",
       "        vertical-align: top;\n",
       "    }\n",
       "\n",
       "    .dataframe thead th {\n",
       "        text-align: right;\n",
       "    }\n",
       "</style>\n",
       "<table border=\"1\" class=\"dataframe\">\n",
       "  <thead>\n",
       "    <tr style=\"text-align: right;\">\n",
       "      <th></th>\n",
       "      <th>HomeTeam</th>\n",
       "      <th>AwayTeam</th>\n",
       "      <th>Referee</th>\n",
       "      <th>BWH</th>\n",
       "      <th>BWD</th>\n",
       "      <th>BWA</th>\n",
       "      <th>Avg&lt;2.5</th>\n",
       "      <th>Avg&gt;2.5</th>\n",
       "      <th>Day_of_year</th>\n",
       "      <th>Day_of_week</th>\n",
       "      <th>Month</th>\n",
       "      <th>Year</th>\n",
       "      <th>Season</th>\n",
       "    </tr>\n",
       "  </thead>\n",
       "  <tbody>\n",
       "    <tr>\n",
       "      <th>0</th>\n",
       "      <td>Newcastle</td>\n",
       "      <td>Chelsea</td>\n",
       "      <td>C Pawson</td>\n",
       "      <td>6.0</td>\n",
       "      <td>4.6</td>\n",
       "      <td>1.50</td>\n",
       "      <td>1.62</td>\n",
       "      <td>2.20</td>\n",
       "      <td>326</td>\n",
       "      <td>Saturday</td>\n",
       "      <td>11</td>\n",
       "      <td>2020</td>\n",
       "      <td>2020/2021</td>\n",
       "    </tr>\n",
       "    <tr>\n",
       "      <th>1</th>\n",
       "      <td>Aston Villa</td>\n",
       "      <td>Brighton</td>\n",
       "      <td>M Oliver</td>\n",
       "      <td>2.2</td>\n",
       "      <td>3.6</td>\n",
       "      <td>3.10</td>\n",
       "      <td>1.72</td>\n",
       "      <td>2.05</td>\n",
       "      <td>326</td>\n",
       "      <td>Saturday</td>\n",
       "      <td>11</td>\n",
       "      <td>2020</td>\n",
       "      <td>2020/2021</td>\n",
       "    </tr>\n",
       "    <tr>\n",
       "      <th>2</th>\n",
       "      <td>Tottenham</td>\n",
       "      <td>Man City</td>\n",
       "      <td>M Dean</td>\n",
       "      <td>4.1</td>\n",
       "      <td>3.8</td>\n",
       "      <td>1.83</td>\n",
       "      <td>1.60</td>\n",
       "      <td>2.25</td>\n",
       "      <td>326</td>\n",
       "      <td>Saturday</td>\n",
       "      <td>11</td>\n",
       "      <td>2020</td>\n",
       "      <td>2020/2021</td>\n",
       "    </tr>\n",
       "    <tr>\n",
       "      <th>3</th>\n",
       "      <td>Man United</td>\n",
       "      <td>West Brom</td>\n",
       "      <td>D Coote</td>\n",
       "      <td>1.3</td>\n",
       "      <td>5.5</td>\n",
       "      <td>9.75</td>\n",
       "      <td>1.62</td>\n",
       "      <td>2.20</td>\n",
       "      <td>326</td>\n",
       "      <td>Saturday</td>\n",
       "      <td>11</td>\n",
       "      <td>2020</td>\n",
       "      <td>2020/2021</td>\n",
       "    </tr>\n",
       "    <tr>\n",
       "      <th>4</th>\n",
       "      <td>Fulham</td>\n",
       "      <td>Everton</td>\n",
       "      <td>A Madley</td>\n",
       "      <td>4.0</td>\n",
       "      <td>3.8</td>\n",
       "      <td>1.85</td>\n",
       "      <td>1.72</td>\n",
       "      <td>2.05</td>\n",
       "      <td>327</td>\n",
       "      <td>Sunday</td>\n",
       "      <td>11</td>\n",
       "      <td>2020</td>\n",
       "      <td>2020/2021</td>\n",
       "    </tr>\n",
       "  </tbody>\n",
       "</table>\n",
       "</div>"
      ],
      "text/plain": [
       "      HomeTeam   AwayTeam   Referee  BWH  BWD   BWA  Avg<2.5  Avg>2.5  \\\n",
       "0    Newcastle    Chelsea  C Pawson  6.0  4.6  1.50     1.62     2.20   \n",
       "1  Aston Villa   Brighton  M Oliver  2.2  3.6  3.10     1.72     2.05   \n",
       "2    Tottenham   Man City    M Dean  4.1  3.8  1.83     1.60     2.25   \n",
       "3   Man United  West Brom   D Coote  1.3  5.5  9.75     1.62     2.20   \n",
       "4       Fulham    Everton  A Madley  4.0  3.8  1.85     1.72     2.05   \n",
       "\n",
       "   Day_of_year Day_of_week  Month  Year     Season  \n",
       "0          326    Saturday     11  2020  2020/2021  \n",
       "1          326    Saturday     11  2020  2020/2021  \n",
       "2          326    Saturday     11  2020  2020/2021  \n",
       "3          326    Saturday     11  2020  2020/2021  \n",
       "4          327      Sunday     11  2020  2020/2021  "
      ]
     },
     "execution_count": 134,
     "metadata": {},
     "output_type": "execute_result"
    }
   ],
   "source": [
    "X_predict=pd.read_csv('new_round.csv')\n",
    "X_predict.head()"
   ]
  },
  {
   "cell_type": "code",
   "execution_count": 135,
   "metadata": {},
   "outputs": [
    {
     "name": "stdout",
     "output_type": "stream",
     "text": [
      "156\n",
      "156\n"
     ]
    }
   ],
   "source": [
    "X_pred_prep = full_pipeline.transform(X_predict)\n",
    "X_pred_prep.toarray()\n",
    "\n",
    "print (X_pred_prep.shape[1])\n",
    "print (X_prepared.shape[1])"
   ]
  },
  {
   "cell_type": "code",
   "execution_count": 150,
   "metadata": {},
   "outputs": [
    {
     "name": "stdout",
     "output_type": "stream",
     "text": [
      "['0-2' '0-2' '0-2' '0-2' '3+' '0-2' '0-2' '0-2' '3+' '3+']\n"
     ]
    }
   ],
   "source": [
    "y_predict=clf.predict(X_pred_prep)\n",
    "y_predict.reshape((10,1))\n",
    "print(y_predict)"
   ]
  },
  {
   "cell_type": "code",
   "execution_count": 151,
   "metadata": {},
   "outputs": [],
   "source": [
    "prediction=pd.DataFrame(columns=X_predict.columns)"
   ]
  },
  {
   "cell_type": "code",
   "execution_count": 152,
   "metadata": {},
   "outputs": [],
   "source": [
    "prediction[['Home']]=X_predict[['HomeTeam']]\n",
    "prediction[['Away']]=X_predict[['AwayTeam']]\n",
    "prediction[['Prediction']]=y_predict"
   ]
  },
  {
   "cell_type": "code",
   "execution_count": 153,
   "metadata": {},
   "outputs": [
    {
     "data": {
      "text/html": [
       "<div>\n",
       "<style scoped>\n",
       "    .dataframe tbody tr th:only-of-type {\n",
       "        vertical-align: middle;\n",
       "    }\n",
       "\n",
       "    .dataframe tbody tr th {\n",
       "        vertical-align: top;\n",
       "    }\n",
       "\n",
       "    .dataframe thead th {\n",
       "        text-align: right;\n",
       "    }\n",
       "</style>\n",
       "<table border=\"1\" class=\"dataframe\">\n",
       "  <thead>\n",
       "    <tr style=\"text-align: right;\">\n",
       "      <th></th>\n",
       "      <th>Home</th>\n",
       "      <th>Away</th>\n",
       "      <th>Prediction</th>\n",
       "    </tr>\n",
       "  </thead>\n",
       "  <tbody>\n",
       "    <tr>\n",
       "      <th>0</th>\n",
       "      <td>Newcastle</td>\n",
       "      <td>Chelsea</td>\n",
       "      <td>0-2</td>\n",
       "    </tr>\n",
       "    <tr>\n",
       "      <th>1</th>\n",
       "      <td>Aston Villa</td>\n",
       "      <td>Brighton</td>\n",
       "      <td>0-2</td>\n",
       "    </tr>\n",
       "    <tr>\n",
       "      <th>2</th>\n",
       "      <td>Tottenham</td>\n",
       "      <td>Man City</td>\n",
       "      <td>0-2</td>\n",
       "    </tr>\n",
       "    <tr>\n",
       "      <th>3</th>\n",
       "      <td>Man United</td>\n",
       "      <td>West Brom</td>\n",
       "      <td>0-2</td>\n",
       "    </tr>\n",
       "    <tr>\n",
       "      <th>4</th>\n",
       "      <td>Fulham</td>\n",
       "      <td>Everton</td>\n",
       "      <td>3+</td>\n",
       "    </tr>\n",
       "    <tr>\n",
       "      <th>5</th>\n",
       "      <td>Sheffield United</td>\n",
       "      <td>West Ham</td>\n",
       "      <td>0-2</td>\n",
       "    </tr>\n",
       "    <tr>\n",
       "      <th>6</th>\n",
       "      <td>Leeds</td>\n",
       "      <td>Arsenal</td>\n",
       "      <td>0-2</td>\n",
       "    </tr>\n",
       "    <tr>\n",
       "      <th>7</th>\n",
       "      <td>Liverpool</td>\n",
       "      <td>Leicester</td>\n",
       "      <td>0-2</td>\n",
       "    </tr>\n",
       "    <tr>\n",
       "      <th>8</th>\n",
       "      <td>Burnley</td>\n",
       "      <td>Crystal Palace</td>\n",
       "      <td>3+</td>\n",
       "    </tr>\n",
       "    <tr>\n",
       "      <th>9</th>\n",
       "      <td>Wolves</td>\n",
       "      <td>Southampton</td>\n",
       "      <td>3+</td>\n",
       "    </tr>\n",
       "  </tbody>\n",
       "</table>\n",
       "</div>"
      ],
      "text/plain": [
       "               Home            Away Prediction\n",
       "0         Newcastle         Chelsea        0-2\n",
       "1       Aston Villa        Brighton        0-2\n",
       "2         Tottenham        Man City        0-2\n",
       "3        Man United       West Brom        0-2\n",
       "4            Fulham         Everton         3+\n",
       "5  Sheffield United        West Ham        0-2\n",
       "6             Leeds         Arsenal        0-2\n",
       "7         Liverpool       Leicester        0-2\n",
       "8           Burnley  Crystal Palace         3+\n",
       "9            Wolves     Southampton         3+"
      ]
     },
     "execution_count": 153,
     "metadata": {},
     "output_type": "execute_result"
    }
   ],
   "source": [
    "prediction[['Home','Away','Prediction']].head(10)"
   ]
  },
  {
   "cell_type": "code",
   "execution_count": null,
   "metadata": {},
   "outputs": [],
   "source": []
  }
 ],
 "metadata": {
  "kernelspec": {
   "display_name": "Python 3",
   "language": "python",
   "name": "python3"
  },
  "language_info": {
   "codemirror_mode": {
    "name": "ipython",
    "version": 3
   },
   "file_extension": ".py",
   "mimetype": "text/x-python",
   "name": "python",
   "nbconvert_exporter": "python",
   "pygments_lexer": "ipython3",
   "version": "3.8.3"
  }
 },
 "nbformat": 4,
 "nbformat_minor": 4
}
